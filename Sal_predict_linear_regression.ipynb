{
 "cells": [
  {
   "cell_type": "code",
   "execution_count": 1,
   "id": "5cc86504",
   "metadata": {},
   "outputs": [],
   "source": [
    "import pandas as pd\n",
    "import matplotlib.pyplot as plt\n",
    "import numpy as np"
   ]
  },
  {
   "cell_type": "code",
   "execution_count": 2,
   "id": "42ec1ca4",
   "metadata": {},
   "outputs": [],
   "source": [
    "df_salary=pd.read_csv(\"Salary_Data.csv\")"
   ]
  },
  {
   "cell_type": "code",
   "execution_count": 3,
   "id": "0eb73829",
   "metadata": {},
   "outputs": [
    {
     "data": {
      "text/html": [
       "<div>\n",
       "<style scoped>\n",
       "    .dataframe tbody tr th:only-of-type {\n",
       "        vertical-align: middle;\n",
       "    }\n",
       "\n",
       "    .dataframe tbody tr th {\n",
       "        vertical-align: top;\n",
       "    }\n",
       "\n",
       "    .dataframe thead th {\n",
       "        text-align: right;\n",
       "    }\n",
       "</style>\n",
       "<table border=\"1\" class=\"dataframe\">\n",
       "  <thead>\n",
       "    <tr style=\"text-align: right;\">\n",
       "      <th></th>\n",
       "      <th>YearsExperience</th>\n",
       "      <th>Salary</th>\n",
       "    </tr>\n",
       "  </thead>\n",
       "  <tbody>\n",
       "    <tr>\n",
       "      <th>0</th>\n",
       "      <td>1.1</td>\n",
       "      <td>39343</td>\n",
       "    </tr>\n",
       "    <tr>\n",
       "      <th>1</th>\n",
       "      <td>1.3</td>\n",
       "      <td>46205</td>\n",
       "    </tr>\n",
       "    <tr>\n",
       "      <th>2</th>\n",
       "      <td>1.5</td>\n",
       "      <td>37731</td>\n",
       "    </tr>\n",
       "    <tr>\n",
       "      <th>3</th>\n",
       "      <td>2.0</td>\n",
       "      <td>43525</td>\n",
       "    </tr>\n",
       "  </tbody>\n",
       "</table>\n",
       "</div>"
      ],
      "text/plain": [
       "   YearsExperience  Salary\n",
       "0              1.1   39343\n",
       "1              1.3   46205\n",
       "2              1.5   37731\n",
       "3              2.0   43525"
      ]
     },
     "execution_count": 3,
     "metadata": {},
     "output_type": "execute_result"
    }
   ],
   "source": [
    "df_salary.head(4)"
   ]
  },
  {
   "cell_type": "code",
   "execution_count": 5,
   "id": "892dfdc7",
   "metadata": {},
   "outputs": [
    {
     "data": {
      "text/html": [
       "<div>\n",
       "<style scoped>\n",
       "    .dataframe tbody tr th:only-of-type {\n",
       "        vertical-align: middle;\n",
       "    }\n",
       "\n",
       "    .dataframe tbody tr th {\n",
       "        vertical-align: top;\n",
       "    }\n",
       "\n",
       "    .dataframe thead th {\n",
       "        text-align: right;\n",
       "    }\n",
       "</style>\n",
       "<table border=\"1\" class=\"dataframe\">\n",
       "  <thead>\n",
       "    <tr style=\"text-align: right;\">\n",
       "      <th></th>\n",
       "      <th>YearsExperience</th>\n",
       "      <th>Salary</th>\n",
       "    </tr>\n",
       "  </thead>\n",
       "  <tbody>\n",
       "    <tr>\n",
       "      <th>count</th>\n",
       "      <td>42.000000</td>\n",
       "      <td>42.000000</td>\n",
       "    </tr>\n",
       "    <tr>\n",
       "      <th>mean</th>\n",
       "      <td>6.207143</td>\n",
       "      <td>84779.214286</td>\n",
       "    </tr>\n",
       "    <tr>\n",
       "      <th>std</th>\n",
       "      <td>2.926364</td>\n",
       "      <td>27876.701401</td>\n",
       "    </tr>\n",
       "    <tr>\n",
       "      <th>min</th>\n",
       "      <td>1.100000</td>\n",
       "      <td>37731.000000</td>\n",
       "    </tr>\n",
       "    <tr>\n",
       "      <th>25%</th>\n",
       "      <td>3.925000</td>\n",
       "      <td>57929.250000</td>\n",
       "    </tr>\n",
       "    <tr>\n",
       "      <th>50%</th>\n",
       "      <td>6.000000</td>\n",
       "      <td>91738.000000</td>\n",
       "    </tr>\n",
       "    <tr>\n",
       "      <th>75%</th>\n",
       "      <td>8.700000</td>\n",
       "      <td>109431.000000</td>\n",
       "    </tr>\n",
       "    <tr>\n",
       "      <th>max</th>\n",
       "      <td>11.500000</td>\n",
       "      <td>130987.000000</td>\n",
       "    </tr>\n",
       "  </tbody>\n",
       "</table>\n",
       "</div>"
      ],
      "text/plain": [
       "       YearsExperience         Salary\n",
       "count        42.000000      42.000000\n",
       "mean          6.207143   84779.214286\n",
       "std           2.926364   27876.701401\n",
       "min           1.100000   37731.000000\n",
       "25%           3.925000   57929.250000\n",
       "50%           6.000000   91738.000000\n",
       "75%           8.700000  109431.000000\n",
       "max          11.500000  130987.000000"
      ]
     },
     "execution_count": 5,
     "metadata": {},
     "output_type": "execute_result"
    }
   ],
   "source": [
    "df_salary.describe()"
   ]
  },
  {
   "cell_type": "code",
   "execution_count": 7,
   "id": "831ce366",
   "metadata": {
    "scrolled": false
   },
   "outputs": [
    {
     "data": {
      "text/plain": [
       "<matplotlib.collections.PathCollection at 0x17fc489ec10>"
      ]
     },
     "execution_count": 7,
     "metadata": {},
     "output_type": "execute_result"
    },
    {
     "data": {
      "image/png": "[encoded data removed]",
      "text/plain": [
       "<Figure size 432x288 with 1 Axes>"
      ]
     },
     "metadata": {
      "needs_background": "light"
     },
     "output_type": "display_data"
    }
   ],
   "source": [
    "plt.scatter(df_salary['YearsExperience'],df_salary['Salary'])"
   ]
  },
  {
   "cell_type": "code",
   "execution_count": 14,
   "id": "3f8f6c04",
   "metadata": {},
   "outputs": [],
   "source": [
    "x=df_salary.iloc[:,:-1].values\n",
    "y=df_salary.iloc[:,-1].values\n"
   ]
  },
  {
   "cell_type": "code",
   "execution_count": 67,
   "id": "f6e657a6",
   "metadata": {},
   "outputs": [
    {
     "data": {
      "text/plain": [
       "array([[ 1.1,  1.3,  1.5,  2. ,  2.2,  2.9,  3. ,  3.2,  3.2,  3.7,  3.9,\n",
       "         4. ,  4. ,  4.1,  4.5,  4.9,  5.1,  5.3,  5.9,  6. ,  6.8,  7.1,\n",
       "         7.9,  8.2,  8.7,  9. ,  9.5,  9.6, 10.3, 10.5,  5.9,  6. ,  6.8,\n",
       "         7.1,  7.9,  8.5,  8.7,  9.5,  9.5,  9.6, 10.3, 11.5]])"
      ]
     },
     "execution_count": 67,
     "metadata": {},
     "output_type": "execute_result"
    }
   ],
   "source": [
    "x.transpose()"
   ]
  },
  {
   "cell_type": "code",
   "execution_count": 17,
   "id": "0f500a81",
   "metadata": {},
   "outputs": [
    {
     "data": {
      "text/plain": [
       "array([ 39343,  46205,  37731,  43525,  39891,  56642,  60150,  54445,\n",
       "        64445,  57189,  63218,  55794,  56957,  57081,  61111,  67938,\n",
       "        66029,  83088,  81363,  93940,  91738,  98273, 101302, 113812,\n",
       "       109431, 105582, 116969, 112635, 122391, 121872,  85300,  93940,\n",
       "        91738,  98273, 100098, 113812, 109431, 105582, 116969, 112635,\n",
       "       130987, 121872], dtype=int64)"
      ]
     },
     "execution_count": 17,
     "metadata": {},
     "output_type": "execute_result"
    }
   ],
   "source": [
    "y"
   ]
  },
  {
   "cell_type": "code",
   "execution_count": 19,
   "id": "50746794",
   "metadata": {},
   "outputs": [],
   "source": [
    "from sklearn.model_selection import train_test_split"
   ]
  },
  {
   "cell_type": "code",
   "execution_count": 29,
   "id": "320c43ad",
   "metadata": {},
   "outputs": [],
   "source": [
    "X_train,X_test,y_train,y_test=train_test_split(x,y,test_size=1/3,random_state=101)"
   ]
  },
  {
   "cell_type": "code",
   "execution_count": 69,
   "id": "300c2393",
   "metadata": {},
   "outputs": [
    {
     "data": {
      "text/plain": [
       "array([[ 8.7,  8.7,  7.1,  3.9,  9.5,  6.8,  1.5,  7.9,  9. ,  9.6,  4.9,\n",
       "         6. ,  9.6,  3.2,  4. ,  2.9,  4.5,  1.1, 10.3,  2.2,  4.1,  3.7,\n",
       "        10.3,  8.2,  3. ,  5.3,  4. ,  6. ]])"
      ]
     },
     "execution_count": 69,
     "metadata": {},
     "output_type": "execute_result"
    }
   ],
   "source": [
    "X_train.transpose()"
   ]
  },
  {
   "cell_type": "code",
   "execution_count": 31,
   "id": "a16bedc9",
   "metadata": {},
   "outputs": [
    {
     "data": {
      "text/plain": [
       "array([109431, 109431,  98273,  63218, 105582,  91738,  37731, 101302,\n",
       "       105582, 112635,  67938,  93940, 112635,  64445,  56957,  56642,\n",
       "        61111,  39343, 122391,  39891,  57081,  57189, 130987, 113812,\n",
       "        60150,  83088,  55794,  93940], dtype=int64)"
      ]
     },
     "execution_count": 31,
     "metadata": {},
     "output_type": "execute_result"
    }
   ],
   "source": [
    "y_train"
   ]
  },
  {
   "cell_type": "code",
   "execution_count": 68,
   "id": "a06fba66",
   "metadata": {},
   "outputs": [
    {
     "data": {
      "text/plain": [
       "array([[ 1.3,  9.5,  6.8,  5.1, 10.5,  2. ,  7.1,  9.5,  5.9,  5.9,  7.9,\n",
       "         8.5, 11.5,  3.2]])"
      ]
     },
     "execution_count": 68,
     "metadata": {},
     "output_type": "execute_result"
    }
   ],
   "source": [
    "X_test.transpose()"
   ]
  },
  {
   "cell_type": "code",
   "execution_count": 33,
   "id": "dbf6e232",
   "metadata": {},
   "outputs": [
    {
     "data": {
      "text/plain": [
       "array([ 46205, 116969,  91738,  66029, 121872,  43525,  98273, 116969,\n",
       "        81363,  85300, 100098, 113812, 121872,  54445], dtype=int64)"
      ]
     },
     "execution_count": 33,
     "metadata": {},
     "output_type": "execute_result"
    }
   ],
   "source": [
    "y_test"
   ]
  },
  {
   "cell_type": "code",
   "execution_count": 34,
   "id": "1d5a1fc6",
   "metadata": {},
   "outputs": [],
   "source": [
    "from sklearn.linear_model import LinearRegression\n",
    "lr=LinearRegression()"
   ]
  },
  {
   "cell_type": "code",
   "execution_count": 35,
   "id": "d2959d0e",
   "metadata": {},
   "outputs": [
    {
     "data": {
      "text/plain": [
       "LinearRegression()"
      ]
     },
     "execution_count": 35,
     "metadata": {},
     "output_type": "execute_result"
    }
   ],
   "source": [
    "lr.fit(X_train,y_train)"
   ]
  },
  {
   "cell_type": "code",
   "execution_count": 36,
   "id": "ee040c45",
   "metadata": {},
   "outputs": [],
   "source": [
    "pred=lr.predict(X_test)"
   ]
  },
  {
   "cell_type": "code",
   "execution_count": 37,
   "id": "aff72001",
   "metadata": {
    "scrolled": false
   },
   "outputs": [
    {
     "data": {
      "text/plain": [
       "array([ 38046.62257993, 116310.53350314,  90540.70917477,  74315.26422727,\n",
       "       125854.91288402,  44727.68814655,  93404.02298903, 116310.53350314,\n",
       "        81950.76773197,  81950.76773197, 101039.52649373, 106766.15412226,\n",
       "       135399.2922649 ,  56180.9434036 ])"
      ]
     },
     "execution_count": 37,
     "metadata": {},
     "output_type": "execute_result"
    }
   ],
   "source": [
    "pred"
   ]
  },
  {
   "cell_type": "code",
   "execution_count": 43,
   "id": "2aefcd0d",
   "metadata": {},
   "outputs": [
    {
     "data": {
      "text/plain": [
       "array([ 46205, 116969,  91738,  66029, 121872,  43525,  98273, 116969,\n",
       "        81363,  85300, 100098, 113812, 121872,  54445], dtype=int64)"
      ]
     },
     "execution_count": 43,
     "metadata": {},
     "output_type": "execute_result"
    }
   ],
   "source": [
    "y_test"
   ]
  },
  {
   "cell_type": "code",
   "execution_count": 45,
   "id": "c41cd8d9",
   "metadata": {},
   "outputs": [
    {
     "data": {
      "text/plain": [
       "array([  8158.37742007,    658.46649686,   1197.29082523,  -8286.26422727,\n",
       "        -3982.91288402,  -1202.68814655,   4868.97701097,    658.46649686,\n",
       "         -587.76773197,   3349.23226803,   -941.52649373,   7045.84587774,\n",
       "       -13527.2922649 ,  -1735.9434036 ])"
      ]
     },
     "execution_count": 45,
     "metadata": {},
     "output_type": "execute_result"
    }
   ],
   "source": [
    "diff_lr=y_test-pred\n",
    "diff_lr"
   ]
  },
  {
   "cell_type": "code",
   "execution_count": 47,
   "id": "c7aa82ce",
   "metadata": {
    "scrolled": true
   },
   "outputs": [],
   "source": [
    "res_df=pd.concat([pd.Series(pred),pd.Series(y_test),pd.Series(diff_lr)],axis=1)\n",
    "res_df.columns=['Prediction','Original Data','Diff']"
   ]
  },
  {
   "cell_type": "code",
   "execution_count": 51,
   "id": "96576288",
   "metadata": {
    "scrolled": false
   },
   "outputs": [
    {
     "data": {
      "text/html": [
       "<div>\n",
       "<style scoped>\n",
       "    .dataframe tbody tr th:only-of-type {\n",
       "        vertical-align: middle;\n",
       "    }\n",
       "\n",
       "    .dataframe tbody tr th {\n",
       "        vertical-align: top;\n",
       "    }\n",
       "\n",
       "    .dataframe thead th {\n",
       "        text-align: right;\n",
       "    }\n",
       "</style>\n",
       "<table border=\"1\" class=\"dataframe\">\n",
       "  <thead>\n",
       "    <tr style=\"text-align: right;\">\n",
       "      <th></th>\n",
       "      <th>0</th>\n",
       "      <th>1</th>\n",
       "      <th>2</th>\n",
       "      <th>3</th>\n",
       "      <th>4</th>\n",
       "      <th>5</th>\n",
       "      <th>6</th>\n",
       "      <th>7</th>\n",
       "      <th>8</th>\n",
       "      <th>9</th>\n",
       "      <th>10</th>\n",
       "      <th>11</th>\n",
       "      <th>12</th>\n",
       "      <th>13</th>\n",
       "    </tr>\n",
       "  </thead>\n",
       "  <tbody>\n",
       "    <tr>\n",
       "      <th>Prediction</th>\n",
       "      <td>38046.62258</td>\n",
       "      <td>116310.533503</td>\n",
       "      <td>90540.709175</td>\n",
       "      <td>74315.264227</td>\n",
       "      <td>125854.912884</td>\n",
       "      <td>44727.688147</td>\n",
       "      <td>93404.022989</td>\n",
       "      <td>116310.533503</td>\n",
       "      <td>81950.767732</td>\n",
       "      <td>81950.767732</td>\n",
       "      <td>101039.526494</td>\n",
       "      <td>106766.154122</td>\n",
       "      <td>135399.292265</td>\n",
       "      <td>56180.943404</td>\n",
       "    </tr>\n",
       "    <tr>\n",
       "      <th>Original Data</th>\n",
       "      <td>46205.00000</td>\n",
       "      <td>116969.000000</td>\n",
       "      <td>91738.000000</td>\n",
       "      <td>66029.000000</td>\n",
       "      <td>121872.000000</td>\n",
       "      <td>43525.000000</td>\n",
       "      <td>98273.000000</td>\n",
       "      <td>116969.000000</td>\n",
       "      <td>81363.000000</td>\n",
       "      <td>85300.000000</td>\n",
       "      <td>100098.000000</td>\n",
       "      <td>113812.000000</td>\n",
       "      <td>121872.000000</td>\n",
       "      <td>54445.000000</td>\n",
       "    </tr>\n",
       "    <tr>\n",
       "      <th>Diff</th>\n",
       "      <td>8158.37742</td>\n",
       "      <td>658.466497</td>\n",
       "      <td>1197.290825</td>\n",
       "      <td>-8286.264227</td>\n",
       "      <td>-3982.912884</td>\n",
       "      <td>-1202.688147</td>\n",
       "      <td>4868.977011</td>\n",
       "      <td>658.466497</td>\n",
       "      <td>-587.767732</td>\n",
       "      <td>3349.232268</td>\n",
       "      <td>-941.526494</td>\n",
       "      <td>7045.845878</td>\n",
       "      <td>-13527.292265</td>\n",
       "      <td>-1735.943404</td>\n",
       "    </tr>\n",
       "  </tbody>\n",
       "</table>\n",
       "</div>"
      ],
      "text/plain": [
       "                        0              1             2             3   \\\n",
       "Prediction     38046.62258  116310.533503  90540.709175  74315.264227   \n",
       "Original Data  46205.00000  116969.000000  91738.000000  66029.000000   \n",
       "Diff            8158.37742     658.466497   1197.290825  -8286.264227   \n",
       "\n",
       "                          4             5             6              7   \\\n",
       "Prediction     125854.912884  44727.688147  93404.022989  116310.533503   \n",
       "Original Data  121872.000000  43525.000000  98273.000000  116969.000000   \n",
       "Diff            -3982.912884  -1202.688147   4868.977011     658.466497   \n",
       "\n",
       "                         8             9              10             11  \\\n",
       "Prediction     81950.767732  81950.767732  101039.526494  106766.154122   \n",
       "Original Data  81363.000000  85300.000000  100098.000000  113812.000000   \n",
       "Diff            -587.767732   3349.232268    -941.526494    7045.845878   \n",
       "\n",
       "                          12            13  \n",
       "Prediction     135399.292265  56180.943404  \n",
       "Original Data  121872.000000  54445.000000  \n",
       "Diff           -13527.292265  -1735.943404  "
      ]
     },
     "execution_count": 51,
     "metadata": {},
     "output_type": "execute_result"
    }
   ],
   "source": [
    "res_df.transpose()"
   ]
  },
  {
   "cell_type": "code",
   "execution_count": 55,
   "id": "270e8a37",
   "metadata": {
    "scrolled": true
   },
   "outputs": [
    {
     "data": {
      "text/plain": [
       "[<matplotlib.lines.Line2D at 0x17fc9d5ddf0>]"
      ]
     },
     "execution_count": 55,
     "metadata": {},
     "output_type": "execute_result"
    },
    {
     "data": {
      "image/png": "[encoded data removed]",
      "text/plain": [
       "<Figure size 432x288 with 1 Axes>"
      ]
     },
     "metadata": {
      "needs_background": "light"
     },
     "output_type": "display_data"
    }
   ],
   "source": [
    "plt.scatter(X_train,y_train,color='red')\n",
    "plt.plot(X_train,lr.predict(X_train),color='black')"
   ]
  },
  {
   "cell_type": "code",
   "execution_count": 57,
   "id": "f997c1d6",
   "metadata": {},
   "outputs": [
    {
     "data": {
      "image/png": "[encoded data removed]",
      "text/plain": [
       "<Figure size 432x288 with 1 Axes>"
      ]
     },
     "metadata": {
      "needs_background": "light"
     },
     "output_type": "display_data"
    }
   ],
   "source": [
    "plt.scatter(X_test,y_test,color='blue')\n",
    "plt.plot(X_train,lr.predict(X_train),color='red')\n",
    "plt.title('Salary vs Experience (Test Set)')\n",
    "plt.xlabel('Years of Experience')\n",
    "plt.ylabel(\"Salary\")\n",
    "plt.show()"
   ]
  },
  {
   "cell_type": "code",
   "execution_count": 60,
   "id": "055b6e76",
   "metadata": {},
   "outputs": [],
   "source": [
    "from sklearn import metrics\n",
    "rmse= np.sqrt(metrics.mean_squared_error(y_test,pred))\n",
    "R2=metrics.r2_score(y_test,pred)"
   ]
  },
  {
   "cell_type": "code",
   "execution_count": 61,
   "id": "0f01496c",
   "metadata": {},
   "outputs": [
    {
     "data": {
      "text/plain": [
       "5520.308796902157"
      ]
     },
     "execution_count": 61,
     "metadata": {},
     "output_type": "execute_result"
    }
   ],
   "source": [
    "rmse"
   ]
  },
  {
   "cell_type": "markdown",
   "id": "d0ade9c2",
   "metadata": {},
   "source": [
    "# Model Accuracy\n"
   ]
  },
  {
   "cell_type": "code",
   "execution_count": 62,
   "id": "276673cf",
   "metadata": {},
   "outputs": [
    {
     "data": {
      "text/plain": [
       "0.9583364339032916"
      ]
     },
     "execution_count": 62,
     "metadata": {},
     "output_type": "execute_result"
    }
   ],
   "source": [
    "R2\n"
   ]
  },
  {
   "cell_type": "code",
   "execution_count": 63,
   "id": "43639d7a",
   "metadata": {},
   "outputs": [
    {
     "data": {
      "text/plain": [
       "array([62862.00897022])"
      ]
     },
     "execution_count": 63,
     "metadata": {},
     "output_type": "execute_result"
    }
   ],
   "source": [
    "lr.predict([[3.9]])"
   ]
  },
  {
   "cell_type": "code",
   "execution_count": 65,
   "id": "f77762da",
   "metadata": {},
   "outputs": [
    {
     "name": "stdout",
     "output_type": "stream",
     "text": [
      "Enter the Years of Experience=7.9\n",
      "The expected Salary is [101039.52649373]\n"
     ]
    },
    {
     "name": "stderr",
     "output_type": "stream",
     "text": [
      "T:\\anaconda\\lib\\site-packages\\sklearn\\base.py:566: FutureWarning: Arrays of bytes/strings is being converted to decimal numbers if dtype='numeric'. This behavior is deprecated in 0.24 and will be removed in 1.1 (renaming of 0.26). Please convert your data to numeric values explicitly instead.\n",
      "  X = check_array(X, **check_params)\n"
     ]
    }
   ],
   "source": [
    "f=input(\"Enter the Years of Experience=\")\n",
    "print(\"The expected Salary is\",lr.predict([[f]]))"
   ]
  },
  {
   "cell_type": "code",
   "execution_count": null,
   "id": "5e27edf8",
   "metadata": {},
   "outputs": [],
   "source": []
  }
 ],
 "metadata": {
  "kernelspec": {
   "display_name": "Python 3 (ipykernel)",
   "language": "python",
   "name": "python3"
  },
  "language_info": {
   "codemirror_mode": {
    "name": "ipython",
    "version": 3
   },
   "file_extension": ".py",
   "mimetype": "text/x-python",
   "name": "python",
   "nbconvert_exporter": "python",
   "pygments_lexer": "ipython3",
   "version": "3.9.12"
  }
 },
 "nbformat": 4,
 "nbformat_minor": 5
}
